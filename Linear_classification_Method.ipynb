{
  "nbformat": 4,
  "nbformat_minor": 0,
  "metadata": {
    "colab": {
      "provenance": []
    },
    "kernelspec": {
      "name": "python3",
      "display_name": "Python 3"
    },
    "language_info": {
      "name": "python"
    }
  },
  "cells": [
    {
      "cell_type": "markdown",
      "source": [
        "# Reuirement R1\n",
        "\n"
      ],
      "metadata": {
        "id": "Koz8M_7VZfWI"
      }
    },
    {
      "cell_type": "code",
      "source": [
        "import numpy as np\n",
        "import pandas as pd\n",
        "from sklearn.impute import SimpleImputer\n",
        "from sklearn.model_selection import train_test_split\n",
        "from sklearn.preprocessing import MinMaxScaler\n",
        "from sklearn.linear_model import Perceptron\n",
        "from sklearn.neural_network import MLPClassifier\n",
        "from sklearn.linear_model import LogisticRegression\n",
        "from sklearn.metrics.pairwise import rbf_kernel\n",
        "from sklearn.metrics import accuracy_score,f1_score\n",
        "from sklearn.model_selection import RepeatedKFold\n",
        "from sklearn.model_selection import cross_val_score\n",
        "from sklearn import metrics\n",
        "import matplotlib.pyplot as plt\n",
        "import matplotlib.patheffects as PathEffects\n",
        "from matplotlib.text import TextPath\n",
        "from sklearn.manifold import TSNE\n",
        "from sklearn.svm import SVC\n",
        "from sklearn.feature_selection import mutual_info_classif\n",
        "from sklearn.utils import resample\n"
      ],
      "metadata": {
        "id": "E8-cPasiZb0l"
      },
      "execution_count": 50,
      "outputs": []
    },
    {
      "cell_type": "code",
      "source": [
        "cols_name = ['Id number','RI','Na','Mg','Al','Si','K','Ca','Ba','Fe','Glass_class']\n",
        "GlassDataset = pd.read_csv(\"https://archive.ics.uci.edu/ml/machine-learning-databases/glass/glass.data\",names=cols_name)\n",
        "GlassDataset.head()"
      ],
      "metadata": {
        "colab": {
          "base_uri": "https://localhost:8080/",
          "height": 206
        },
        "id": "eRJA0Hk8YT3j",
        "outputId": "79da573a-116e-447e-8891-3ddded4693bc"
      },
      "execution_count": 51,
      "outputs": [
        {
          "output_type": "execute_result",
          "data": {
            "text/plain": [
              "   Id number       RI     Na    Mg    Al     Si     K    Ca   Ba   Fe  \\\n",
              "0          1  1.52101  13.64  4.49  1.10  71.78  0.06  8.75  0.0  0.0   \n",
              "1          2  1.51761  13.89  3.60  1.36  72.73  0.48  7.83  0.0  0.0   \n",
              "2          3  1.51618  13.53  3.55  1.54  72.99  0.39  7.78  0.0  0.0   \n",
              "3          4  1.51766  13.21  3.69  1.29  72.61  0.57  8.22  0.0  0.0   \n",
              "4          5  1.51742  13.27  3.62  1.24  73.08  0.55  8.07  0.0  0.0   \n",
              "\n",
              "   Glass_class  \n",
              "0            1  \n",
              "1            1  \n",
              "2            1  \n",
              "3            1  \n",
              "4            1  "
            ],
            "text/html": [
              "\n",
              "  <div id=\"df-74e4267b-b3d7-43ad-a005-08a1c5bc6a36\" class=\"colab-df-container\">\n",
              "    <div>\n",
              "<style scoped>\n",
              "    .dataframe tbody tr th:only-of-type {\n",
              "        vertical-align: middle;\n",
              "    }\n",
              "\n",
              "    .dataframe tbody tr th {\n",
              "        vertical-align: top;\n",
              "    }\n",
              "\n",
              "    .dataframe thead th {\n",
              "        text-align: right;\n",
              "    }\n",
              "</style>\n",
              "<table border=\"1\" class=\"dataframe\">\n",
              "  <thead>\n",
              "    <tr style=\"text-align: right;\">\n",
              "      <th></th>\n",
              "      <th>Id number</th>\n",
              "      <th>RI</th>\n",
              "      <th>Na</th>\n",
              "      <th>Mg</th>\n",
              "      <th>Al</th>\n",
              "      <th>Si</th>\n",
              "      <th>K</th>\n",
              "      <th>Ca</th>\n",
              "      <th>Ba</th>\n",
              "      <th>Fe</th>\n",
              "      <th>Glass_class</th>\n",
              "    </tr>\n",
              "  </thead>\n",
              "  <tbody>\n",
              "    <tr>\n",
              "      <th>0</th>\n",
              "      <td>1</td>\n",
              "      <td>1.52101</td>\n",
              "      <td>13.64</td>\n",
              "      <td>4.49</td>\n",
              "      <td>1.10</td>\n",
              "      <td>71.78</td>\n",
              "      <td>0.06</td>\n",
              "      <td>8.75</td>\n",
              "      <td>0.0</td>\n",
              "      <td>0.0</td>\n",
              "      <td>1</td>\n",
              "    </tr>\n",
              "    <tr>\n",
              "      <th>1</th>\n",
              "      <td>2</td>\n",
              "      <td>1.51761</td>\n",
              "      <td>13.89</td>\n",
              "      <td>3.60</td>\n",
              "      <td>1.36</td>\n",
              "      <td>72.73</td>\n",
              "      <td>0.48</td>\n",
              "      <td>7.83</td>\n",
              "      <td>0.0</td>\n",
              "      <td>0.0</td>\n",
              "      <td>1</td>\n",
              "    </tr>\n",
              "    <tr>\n",
              "      <th>2</th>\n",
              "      <td>3</td>\n",
              "      <td>1.51618</td>\n",
              "      <td>13.53</td>\n",
              "      <td>3.55</td>\n",
              "      <td>1.54</td>\n",
              "      <td>72.99</td>\n",
              "      <td>0.39</td>\n",
              "      <td>7.78</td>\n",
              "      <td>0.0</td>\n",
              "      <td>0.0</td>\n",
              "      <td>1</td>\n",
              "    </tr>\n",
              "    <tr>\n",
              "      <th>3</th>\n",
              "      <td>4</td>\n",
              "      <td>1.51766</td>\n",
              "      <td>13.21</td>\n",
              "      <td>3.69</td>\n",
              "      <td>1.29</td>\n",
              "      <td>72.61</td>\n",
              "      <td>0.57</td>\n",
              "      <td>8.22</td>\n",
              "      <td>0.0</td>\n",
              "      <td>0.0</td>\n",
              "      <td>1</td>\n",
              "    </tr>\n",
              "    <tr>\n",
              "      <th>4</th>\n",
              "      <td>5</td>\n",
              "      <td>1.51742</td>\n",
              "      <td>13.27</td>\n",
              "      <td>3.62</td>\n",
              "      <td>1.24</td>\n",
              "      <td>73.08</td>\n",
              "      <td>0.55</td>\n",
              "      <td>8.07</td>\n",
              "      <td>0.0</td>\n",
              "      <td>0.0</td>\n",
              "      <td>1</td>\n",
              "    </tr>\n",
              "  </tbody>\n",
              "</table>\n",
              "</div>\n",
              "    <div class=\"colab-df-buttons\">\n",
              "\n",
              "  <div class=\"colab-df-container\">\n",
              "    <button class=\"colab-df-convert\" onclick=\"convertToInteractive('df-74e4267b-b3d7-43ad-a005-08a1c5bc6a36')\"\n",
              "            title=\"Convert this dataframe to an interactive table.\"\n",
              "            style=\"display:none;\">\n",
              "\n",
              "  <svg xmlns=\"http://www.w3.org/2000/svg\" height=\"24px\" viewBox=\"0 -960 960 960\">\n",
              "    <path d=\"M120-120v-720h720v720H120Zm60-500h600v-160H180v160Zm220 220h160v-160H400v160Zm0 220h160v-160H400v160ZM180-400h160v-160H180v160Zm440 0h160v-160H620v160ZM180-180h160v-160H180v160Zm440 0h160v-160H620v160Z\"/>\n",
              "  </svg>\n",
              "    </button>\n",
              "\n",
              "  <style>\n",
              "    .colab-df-container {\n",
              "      display:flex;\n",
              "      gap: 12px;\n",
              "    }\n",
              "\n",
              "    .colab-df-convert {\n",
              "      background-color: #E8F0FE;\n",
              "      border: none;\n",
              "      border-radius: 50%;\n",
              "      cursor: pointer;\n",
              "      display: none;\n",
              "      fill: #1967D2;\n",
              "      height: 32px;\n",
              "      padding: 0 0 0 0;\n",
              "      width: 32px;\n",
              "    }\n",
              "\n",
              "    .colab-df-convert:hover {\n",
              "      background-color: #E2EBFA;\n",
              "      box-shadow: 0px 1px 2px rgba(60, 64, 67, 0.3), 0px 1px 3px 1px rgba(60, 64, 67, 0.15);\n",
              "      fill: #174EA6;\n",
              "    }\n",
              "\n",
              "    .colab-df-buttons div {\n",
              "      margin-bottom: 4px;\n",
              "    }\n",
              "\n",
              "    [theme=dark] .colab-df-convert {\n",
              "      background-color: #3B4455;\n",
              "      fill: #D2E3FC;\n",
              "    }\n",
              "\n",
              "    [theme=dark] .colab-df-convert:hover {\n",
              "      background-color: #434B5C;\n",
              "      box-shadow: 0px 1px 3px 1px rgba(0, 0, 0, 0.15);\n",
              "      filter: drop-shadow(0px 1px 2px rgba(0, 0, 0, 0.3));\n",
              "      fill: #FFFFFF;\n",
              "    }\n",
              "  </style>\n",
              "\n",
              "    <script>\n",
              "      const buttonEl =\n",
              "        document.querySelector('#df-74e4267b-b3d7-43ad-a005-08a1c5bc6a36 button.colab-df-convert');\n",
              "      buttonEl.style.display =\n",
              "        google.colab.kernel.accessAllowed ? 'block' : 'none';\n",
              "\n",
              "      async function convertToInteractive(key) {\n",
              "        const element = document.querySelector('#df-74e4267b-b3d7-43ad-a005-08a1c5bc6a36');\n",
              "        const dataTable =\n",
              "          await google.colab.kernel.invokeFunction('convertToInteractive',\n",
              "                                                    [key], {});\n",
              "        if (!dataTable) return;\n",
              "\n",
              "        const docLinkHtml = 'Like what you see? Visit the ' +\n",
              "          '<a target=\"_blank\" href=https://colab.research.google.com/notebooks/data_table.ipynb>data table notebook</a>'\n",
              "          + ' to learn more about interactive tables.';\n",
              "        element.innerHTML = '';\n",
              "        dataTable['output_type'] = 'display_data';\n",
              "        await google.colab.output.renderOutput(dataTable, element);\n",
              "        const docLink = document.createElement('div');\n",
              "        docLink.innerHTML = docLinkHtml;\n",
              "        element.appendChild(docLink);\n",
              "      }\n",
              "    </script>\n",
              "  </div>\n",
              "\n",
              "\n",
              "<div id=\"df-0a2f3e9b-4b7b-4de8-aeeb-b64713bc563a\">\n",
              "  <button class=\"colab-df-quickchart\" onclick=\"quickchart('df-0a2f3e9b-4b7b-4de8-aeeb-b64713bc563a')\"\n",
              "            title=\"Suggest charts\"\n",
              "            style=\"display:none;\">\n",
              "\n",
              "<svg xmlns=\"http://www.w3.org/2000/svg\" height=\"24px\"viewBox=\"0 0 24 24\"\n",
              "     width=\"24px\">\n",
              "    <g>\n",
              "        <path d=\"M19 3H5c-1.1 0-2 .9-2 2v14c0 1.1.9 2 2 2h14c1.1 0 2-.9 2-2V5c0-1.1-.9-2-2-2zM9 17H7v-7h2v7zm4 0h-2V7h2v10zm4 0h-2v-4h2v4z\"/>\n",
              "    </g>\n",
              "</svg>\n",
              "  </button>\n",
              "\n",
              "<style>\n",
              "  .colab-df-quickchart {\n",
              "      --bg-color: #E8F0FE;\n",
              "      --fill-color: #1967D2;\n",
              "      --hover-bg-color: #E2EBFA;\n",
              "      --hover-fill-color: #174EA6;\n",
              "      --disabled-fill-color: #AAA;\n",
              "      --disabled-bg-color: #DDD;\n",
              "  }\n",
              "\n",
              "  [theme=dark] .colab-df-quickchart {\n",
              "      --bg-color: #3B4455;\n",
              "      --fill-color: #D2E3FC;\n",
              "      --hover-bg-color: #434B5C;\n",
              "      --hover-fill-color: #FFFFFF;\n",
              "      --disabled-bg-color: #3B4455;\n",
              "      --disabled-fill-color: #666;\n",
              "  }\n",
              "\n",
              "  .colab-df-quickchart {\n",
              "    background-color: var(--bg-color);\n",
              "    border: none;\n",
              "    border-radius: 50%;\n",
              "    cursor: pointer;\n",
              "    display: none;\n",
              "    fill: var(--fill-color);\n",
              "    height: 32px;\n",
              "    padding: 0;\n",
              "    width: 32px;\n",
              "  }\n",
              "\n",
              "  .colab-df-quickchart:hover {\n",
              "    background-color: var(--hover-bg-color);\n",
              "    box-shadow: 0 1px 2px rgba(60, 64, 67, 0.3), 0 1px 3px 1px rgba(60, 64, 67, 0.15);\n",
              "    fill: var(--button-hover-fill-color);\n",
              "  }\n",
              "\n",
              "  .colab-df-quickchart-complete:disabled,\n",
              "  .colab-df-quickchart-complete:disabled:hover {\n",
              "    background-color: var(--disabled-bg-color);\n",
              "    fill: var(--disabled-fill-color);\n",
              "    box-shadow: none;\n",
              "  }\n",
              "\n",
              "  .colab-df-spinner {\n",
              "    border: 2px solid var(--fill-color);\n",
              "    border-color: transparent;\n",
              "    border-bottom-color: var(--fill-color);\n",
              "    animation:\n",
              "      spin 1s steps(1) infinite;\n",
              "  }\n",
              "\n",
              "  @keyframes spin {\n",
              "    0% {\n",
              "      border-color: transparent;\n",
              "      border-bottom-color: var(--fill-color);\n",
              "      border-left-color: var(--fill-color);\n",
              "    }\n",
              "    20% {\n",
              "      border-color: transparent;\n",
              "      border-left-color: var(--fill-color);\n",
              "      border-top-color: var(--fill-color);\n",
              "    }\n",
              "    30% {\n",
              "      border-color: transparent;\n",
              "      border-left-color: var(--fill-color);\n",
              "      border-top-color: var(--fill-color);\n",
              "      border-right-color: var(--fill-color);\n",
              "    }\n",
              "    40% {\n",
              "      border-color: transparent;\n",
              "      border-right-color: var(--fill-color);\n",
              "      border-top-color: var(--fill-color);\n",
              "    }\n",
              "    60% {\n",
              "      border-color: transparent;\n",
              "      border-right-color: var(--fill-color);\n",
              "    }\n",
              "    80% {\n",
              "      border-color: transparent;\n",
              "      border-right-color: var(--fill-color);\n",
              "      border-bottom-color: var(--fill-color);\n",
              "    }\n",
              "    90% {\n",
              "      border-color: transparent;\n",
              "      border-bottom-color: var(--fill-color);\n",
              "    }\n",
              "  }\n",
              "</style>\n",
              "\n",
              "  <script>\n",
              "    async function quickchart(key) {\n",
              "      const quickchartButtonEl =\n",
              "        document.querySelector('#' + key + ' button');\n",
              "      quickchartButtonEl.disabled = true;  // To prevent multiple clicks.\n",
              "      quickchartButtonEl.classList.add('colab-df-spinner');\n",
              "      try {\n",
              "        const charts = await google.colab.kernel.invokeFunction(\n",
              "            'suggestCharts', [key], {});\n",
              "      } catch (error) {\n",
              "        console.error('Error during call to suggestCharts:', error);\n",
              "      }\n",
              "      quickchartButtonEl.classList.remove('colab-df-spinner');\n",
              "      quickchartButtonEl.classList.add('colab-df-quickchart-complete');\n",
              "    }\n",
              "    (() => {\n",
              "      let quickchartButtonEl =\n",
              "        document.querySelector('#df-0a2f3e9b-4b7b-4de8-aeeb-b64713bc563a button');\n",
              "      quickchartButtonEl.style.display =\n",
              "        google.colab.kernel.accessAllowed ? 'block' : 'none';\n",
              "    })();\n",
              "  </script>\n",
              "</div>\n",
              "\n",
              "    </div>\n",
              "  </div>\n"
            ],
            "application/vnd.google.colaboratory.intrinsic+json": {
              "type": "dataframe",
              "variable_name": "GlassDataset",
              "summary": "{\n  \"name\": \"GlassDataset\",\n  \"rows\": 214,\n  \"fields\": [\n    {\n      \"column\": \"Id number\",\n      \"properties\": {\n        \"dtype\": \"number\",\n        \"std\": 61,\n        \"min\": 1,\n        \"max\": 214,\n        \"num_unique_values\": 214,\n        \"samples\": [\n          10,\n          198,\n          67\n        ],\n        \"semantic_type\": \"\",\n        \"description\": \"\"\n      }\n    },\n    {\n      \"column\": \"RI\",\n      \"properties\": {\n        \"dtype\": \"number\",\n        \"std\": 0.0030368637393854334,\n        \"min\": 1.51115,\n        \"max\": 1.53393,\n        \"num_unique_values\": 178,\n        \"samples\": [\n          1.51966,\n          1.51808,\n          1.51969\n        ],\n        \"semantic_type\": \"\",\n        \"description\": \"\"\n      }\n    },\n    {\n      \"column\": \"Na\",\n      \"properties\": {\n        \"dtype\": \"number\",\n        \"std\": 0.816603555714983,\n        \"min\": 10.73,\n        \"max\": 17.38,\n        \"num_unique_values\": 142,\n        \"samples\": [\n          14.38,\n          13.02,\n          13.83\n        ],\n        \"semantic_type\": \"\",\n        \"description\": \"\"\n      }\n    },\n    {\n      \"column\": \"Mg\",\n      \"properties\": {\n        \"dtype\": \"number\",\n        \"std\": 1.442407844870442,\n        \"min\": 0.0,\n        \"max\": 4.49,\n        \"num_unique_values\": 94,\n        \"samples\": [\n          3.86,\n          3.47,\n          2.9\n        ],\n        \"semantic_type\": \"\",\n        \"description\": \"\"\n      }\n    },\n    {\n      \"column\": \"Al\",\n      \"properties\": {\n        \"dtype\": \"number\",\n        \"std\": 0.4992696456004845,\n        \"min\": 0.29,\n        \"max\": 3.5,\n        \"num_unique_values\": 118,\n        \"samples\": [\n          1.48,\n          1.65,\n          1.24\n        ],\n        \"semantic_type\": \"\",\n        \"description\": \"\"\n      }\n    },\n    {\n      \"column\": \"Si\",\n      \"properties\": {\n        \"dtype\": \"number\",\n        \"std\": 0.7745457947651124,\n        \"min\": 69.81,\n        \"max\": 75.41,\n        \"num_unique_values\": 133,\n        \"samples\": [\n          72.22,\n          73.06,\n          71.81\n        ],\n        \"semantic_type\": \"\",\n        \"description\": \"\"\n      }\n    },\n    {\n      \"column\": \"K\",\n      \"properties\": {\n        \"dtype\": \"number\",\n        \"std\": 0.65219184555898,\n        \"min\": 0.0,\n        \"max\": 6.21,\n        \"num_unique_values\": 65,\n        \"samples\": [\n          0.47,\n          0.31,\n          0.06\n        ],\n        \"semantic_type\": \"\",\n        \"description\": \"\"\n      }\n    },\n    {\n      \"column\": \"Ca\",\n      \"properties\": {\n        \"dtype\": \"number\",\n        \"std\": 1.423153487281395,\n        \"min\": 5.43,\n        \"max\": 16.19,\n        \"num_unique_values\": 143,\n        \"samples\": [\n          12.5,\n          8.52,\n          11.52\n        ],\n        \"semantic_type\": \"\",\n        \"description\": \"\"\n      }\n    },\n    {\n      \"column\": \"Ba\",\n      \"properties\": {\n        \"dtype\": \"number\",\n        \"std\": 0.49721926059970356,\n        \"min\": 0.0,\n        \"max\": 3.15,\n        \"num_unique_values\": 34,\n        \"samples\": [\n          0.64,\n          0.61,\n          1.55\n        ],\n        \"semantic_type\": \"\",\n        \"description\": \"\"\n      }\n    },\n    {\n      \"column\": \"Fe\",\n      \"properties\": {\n        \"dtype\": \"number\",\n        \"std\": 0.09743870063650084,\n        \"min\": 0.0,\n        \"max\": 0.51,\n        \"num_unique_values\": 32,\n        \"samples\": [\n          0.51,\n          0.03,\n          0.21\n        ],\n        \"semantic_type\": \"\",\n        \"description\": \"\"\n      }\n    },\n    {\n      \"column\": \"Glass_class\",\n      \"properties\": {\n        \"dtype\": \"number\",\n        \"std\": 2,\n        \"min\": 1,\n        \"max\": 7,\n        \"num_unique_values\": 6,\n        \"samples\": [\n          1,\n          2,\n          7\n        ],\n        \"semantic_type\": \"\",\n        \"description\": \"\"\n      }\n    }\n  ]\n}"
            }
          },
          "metadata": {},
          "execution_count": 51
        }
      ]
    },
    {
      "cell_type": "markdown",
      "source": [
        "## Checking for missing values and imputing missing values if appropriate"
      ],
      "metadata": {
        "id": "RXYqrxbcZrgA"
      }
    },
    {
      "cell_type": "code",
      "source": [
        "# Checking Missing values\n",
        "print(GlassDataset.isnull().sum())"
      ],
      "metadata": {
        "colab": {
          "base_uri": "https://localhost:8080/"
        },
        "id": "KB8ifsRNYYAH",
        "outputId": "6494be02-0c01-499a-ff95-1ce9d8241d65"
      },
      "execution_count": 52,
      "outputs": [
        {
          "output_type": "stream",
          "name": "stdout",
          "text": [
            "Id number      0\n",
            "RI             0\n",
            "Na             0\n",
            "Mg             0\n",
            "Al             0\n",
            "Si             0\n",
            "K              0\n",
            "Ca             0\n",
            "Ba             0\n",
            "Fe             0\n",
            "Glass_class    0\n",
            "dtype: int64\n"
          ]
        }
      ]
    },
    {
      "cell_type": "code",
      "source": [
        "# Impute the  missing values\n",
        "imv = SimpleImputer(missing_values=np.nan,strategy='mean')\n",
        "imv = imv.fit(GlassDataset.values)\n",
        "imv_data = imv.transform(GlassDataset.values)\n",
        "print(imv_data)"
      ],
      "metadata": {
        "colab": {
          "base_uri": "https://localhost:8080/"
        },
        "id": "RsVL-ibMYbvb",
        "outputId": "01fcb282-5bd1-4c79-8542-63b0e5c7005c"
      },
      "execution_count": 53,
      "outputs": [
        {
          "output_type": "stream",
          "name": "stdout",
          "text": [
            "[[  1.        1.52101  13.64    ...   0.        0.        1.     ]\n",
            " [  2.        1.51761  13.89    ...   0.        0.        1.     ]\n",
            " [  3.        1.51618  13.53    ...   0.        0.        1.     ]\n",
            " ...\n",
            " [212.        1.52065  14.36    ...   1.64      0.        7.     ]\n",
            " [213.        1.51651  14.38    ...   1.57      0.        7.     ]\n",
            " [214.        1.51711  14.23    ...   1.67      0.        7.     ]]\n"
          ]
        }
      ]
    },
    {
      "cell_type": "markdown",
      "source": [
        "## Normalizing all feature values"
      ],
      "metadata": {
        "id": "419Si32DaS3p"
      }
    },
    {
      "cell_type": "code",
      "source": [
        "X_feature = GlassDataset.drop('Glass_class', axis=1)\n",
        "y_target = GlassDataset['Glass_class']\n",
        "\n",
        "\n",
        "\n",
        "scale = MinMaxScaler(feature_range=(0,1))\n",
        "f_Scaled = scale.fit_transform(X_feature)\n",
        "print(f_Scaled)\n"
      ],
      "metadata": {
        "colab": {
          "base_uri": "https://localhost:8080/"
        },
        "id": "xOKyty1waY_T",
        "outputId": "00d044ed-0af6-4f57-c74d-b6b6a15f50be"
      },
      "execution_count": 54,
      "outputs": [
        {
          "output_type": "stream",
          "name": "stdout",
          "text": [
            "[[0.         0.43283582 0.43759398 ... 0.30855019 0.         0.        ]\n",
            " [0.00469484 0.28358209 0.47518797 ... 0.22304833 0.         0.        ]\n",
            " [0.00938967 0.22080773 0.42105263 ... 0.21840149 0.         0.        ]\n",
            " ...\n",
            " [0.99061033 0.41703248 0.54586466 ... 0.27973978 0.52063492 0.        ]\n",
            " [0.99530516 0.23529412 0.54887218 ... 0.28345725 0.4984127  0.        ]\n",
            " [1.         0.26163301 0.52631579 ... 0.2964684  0.53015873 0.        ]]\n"
          ]
        }
      ]
    },
    {
      "cell_type": "markdown",
      "source": [
        "## Apply tsne visualization before and after rbf kernel"
      ],
      "metadata": {
        "id": "wIsYuud9a__9"
      }
    },
    {
      "cell_type": "code",
      "source": [
        "def scatter(x, colors):\n",
        "    palette = np.array(plt.cm.tab10.colors)\n",
        "    f = plt.figure(figsize=(8, 8))\n",
        "    ax = plt.subplot(aspect='equal')\n",
        "    scatter = ax.scatter(x[:, 0], x[:, 1], lw=0, s=30, c=palette[colors.astype(int)])\n",
        "    ax.axis(\"off\")\n",
        "    txts = []\n",
        "\n",
        "    for i in np.unique(colors):\n",
        "        xtext, ytext = np.median(x[colors == i], axis=0)\n",
        "        txt = ax.text(xtext, ytext, str(i), fontsize=24, color=\"white\", path_effects=[PathEffects.withStroke(linewidth=3, foreground=\"black\")])\n",
        "        txts.append(txt)\n",
        "\n",
        "    return f, ax, scatter, txts"
      ],
      "metadata": {
        "id": "eVPJpnftbA37"
      },
      "execution_count": 55,
      "outputs": []
    },
    {
      "cell_type": "code",
      "source": [
        "before_tsne = TSNE(n_components=2, random_state=42)\n",
        "ftsne = before_tsne.fit_transform(f_Scaled)"
      ],
      "metadata": {
        "id": "1HLBOm4wbF2t"
      },
      "execution_count": 56,
      "outputs": []
    },
    {
      "cell_type": "code",
      "source": [
        "scatter(ftsne,y_target)\n",
        "plt.show()"
      ],
      "metadata": {
        "colab": {
          "base_uri": "https://localhost:8080/",
          "height": 653
        },
        "id": "PzPcCCntbNVV",
        "outputId": "db80cbef-8439-4818-fa18-e1f687e9dcbd"
      },
      "execution_count": 57,
      "outputs": [
        {
          "output_type": "display_data",
          "data": {
            "text/plain": [
              "<Figure size 800x800 with 1 Axes>"
            ],
            "image/png": "[encoded data removed]"
          },
          "metadata": {}
        }
      ]
    },
    {
      "cell_type": "markdown",
      "source": [
        "4) Apply RBF kernel on Sepration data"
      ],
      "metadata": {
        "id": "SyDLG79TEEKj"
      }
    },
    {
      "cell_type": "code",
      "source": [
        "gamma_val = 2\n",
        "rbf_k = rbf_kernel(f_Scaled, gamma=gamma_val)\n"
      ],
      "metadata": {
        "id": "NA2mMwaCEIt8"
      },
      "execution_count": 58,
      "outputs": []
    },
    {
      "cell_type": "markdown",
      "source": [
        "5) Apply tsne after applying RBF kernel"
      ],
      "metadata": {
        "id": "xiL0by5GEtJ_"
      }
    },
    {
      "cell_type": "code",
      "source": [
        "\n",
        "rbf_tsne = TSNE(n_components=2, random_state=42)\n",
        "X_tsne = rbf_tsne.fit_transform(rbf_k)"
      ],
      "metadata": {
        "id": "BVVsXeb4E0BQ"
      },
      "execution_count": 59,
      "outputs": []
    },
    {
      "cell_type": "code",
      "source": [
        "def scatter(x, colors):\n",
        "    palette = np.array(plt.cm.tab10.colors)\n",
        "    f = plt.figure(figsize=(8, 8))\n",
        "    ax = plt.subplot(aspect='equal')\n",
        "    scatter = ax.scatter(x[:, 0], x[:, 1], lw=0, s=30, c=palette[colors.astype(int)])\n",
        "    ax.axis(\"off\")\n",
        "    txts = []\n",
        "\n",
        "    for i in np.unique(colors):\n",
        "        xtext, ytext = np.median(x[colors == i], axis=0)\n",
        "        txt = ax.text(xtext, ytext, str(i), fontsize=24, color=\"white\", path_effects=[PathEffects.withStroke(linewidth=3, foreground=\"black\")])\n",
        "        txts.append(txt)\n",
        "\n",
        "    return f, ax, scatter, txts"
      ],
      "metadata": {
        "id": "xr5VLuN4FMzN"
      },
      "execution_count": 60,
      "outputs": []
    },
    {
      "cell_type": "code",
      "source": [
        "scatter(X_tsne, y_target)\n",
        "plt.show()"
      ],
      "metadata": {
        "colab": {
          "base_uri": "https://localhost:8080/",
          "height": 312
        },
        "id": "SqYoHFO9FOnk",
        "outputId": "3c2efa21-316a-4cb7-8f70-a0b92ce5a24e"
      },
      "execution_count": 61,
      "outputs": [
        {
          "output_type": "display_data",
          "data": {
            "text/plain": [
              "<Figure size 800x800 with 1 Axes>"
            ],
            "image/png": "[encoded data removed]"
          },
          "metadata": {}
        }
      ]
    },
    {
      "cell_type": "markdown",
      "source": [
        "## Apply tsne visualization before and after using rbf kernel particular  on class 1 and class 2"
      ],
      "metadata": {
        "id": "55jt6B12gRVk"
      }
    },
    {
      "cell_type": "code",
      "source": [
        "# separte the class 1 and class 2 in type of glasses\n",
        "\n",
        "seprate = GlassDataset[(GlassDataset['Glass_class'] == 1) | (GlassDataset['Glass_class'] == 2)]\n",
        "X = seprate.drop('Glass_class', axis=1)\n",
        "y = seprate['Glass_class']\n",
        "\n",
        "# apply normalization\n",
        "sep_scale = MinMaxScaler(feature_range=(0,1))\n",
        "s_Scaled = sep_scale.fit_transform(X)\n",
        "print(s_Scaled)\n",
        "\n",
        "\n",
        "\n",
        "def scatter(x, colors):\n",
        "    palette = np.array(plt.cm.tab10.colors)\n",
        "    f = plt.figure(figsize=(8, 8))\n",
        "    ax = plt.subplot(aspect='equal')\n",
        "    scatter = ax.scatter(x[:, 0], x[:, 1], lw=0, s=30, c=palette[colors.astype(int)])\n",
        "    ax.axis(\"off\")\n",
        "    txts = []\n",
        "\n",
        "    for i in np.unique(colors):\n",
        "        xtext, ytext = np.median(x[colors == i], axis=0)\n",
        "        txt = ax.text(xtext, ytext, str(i), fontsize=24, color=\"white\", path_effects=[PathEffects.withStroke(linewidth=3, foreground=\"black\")])\n",
        "        txts.append(txt)\n",
        "\n",
        "    return f, ax, scatter, txts\n",
        "\n",
        "#apply tsne\n",
        "\n",
        "sep_tsne = TSNE(n_components=2, random_state=42)\n",
        "s_tsne = sep_tsne.fit_transform(s_Scaled)\n",
        "\n",
        "scatter(s_tsne,y)\n",
        "plt.show()\n",
        "\n"
      ],
      "metadata": {
        "colab": {
          "base_uri": "https://localhost:8080/",
          "height": 778
        },
        "id": "0iBBhWVwgc8y",
        "outputId": "a5204fc5-8b4b-40f6-daa6-ae464f131409"
      },
      "execution_count": 62,
      "outputs": [
        {
          "output_type": "stream",
          "name": "stdout",
          "text": [
            "[[0.         0.40679522 0.70460048 ... 0.18331504 0.         0.        ]\n",
            " [0.00689655 0.25068871 0.76513317 ... 0.08232711 0.         0.        ]\n",
            " [0.0137931  0.18503214 0.6779661  ... 0.07683864 0.         0.        ]\n",
            " ...\n",
            " [0.9862069  0.22681359 0.5496368  ... 0.12074643 0.         0.        ]\n",
            " [0.99310345 0.20431589 0.5472155  ... 0.18990121 0.         0.68571429]\n",
            " [1.         0.28650138 0.51331719 ... 0.17563117 0.         1.        ]]\n"
          ]
        },
        {
          "output_type": "display_data",
          "data": {
            "text/plain": [
              "<Figure size 800x800 with 1 Axes>"
            ],
            "image/png": "[encoded data removed]"
          },
          "metadata": {}
        }
      ]
    },
    {
      "cell_type": "markdown",
      "source": [
        "Apply rbf kernel"
      ],
      "metadata": {
        "id": "afJShsdiuJEG"
      }
    },
    {
      "cell_type": "code",
      "source": [
        "\n",
        "#for gamma_sep_val in range(1,10):\n",
        "gamma_sep_val= 3\n",
        "sep_k = rbf_kernel(s_Scaled, gamma=gamma_sep_val)\n",
        "\n",
        "\n",
        "# Apply visualization\n",
        "def scatter(x, colors):\n",
        "    palette = np.array(plt.cm.tab10.colors)\n",
        "    f = plt.figure(figsize=(8, 8))\n",
        "    ax = plt.subplot(aspect='equal')\n",
        "    scatter = ax.scatter(x[:, 0], x[:, 1], lw=0, s=30, c=palette[colors.astype(int)])\n",
        "    ax.axis(\"off\")\n",
        "    txts = []\n",
        "\n",
        "    for i in np.unique(colors):\n",
        "        xtext, ytext = np.median(x[colors == i], axis=0)\n",
        "        txt = ax.text(xtext, ytext, str(i), fontsize=24, color=\"white\", path_effects=[PathEffects.withStroke(linewidth=3, foreground=\"black\")])\n",
        "        txts.append(txt)\n",
        "\n",
        "    return f, ax, scatter, txts\n",
        "\n",
        "#Apply tsne\n",
        "K_tsne = TSNE(n_components=2, random_state=42)\n",
        "sep_rbf_tsne = K_tsne.fit_transform(sep_k)\n",
        "\n",
        "scatter(sep_rbf_tsne,y)\n",
        "plt.show()\n",
        "\n",
        "\n"
      ],
      "metadata": {
        "colab": {
          "base_uri": "https://localhost:8080/",
          "height": 603
        },
        "id": "ajLQkNJ1g9zM",
        "outputId": "b2727b74-9fdf-4b1d-cdd5-aa0011f008ca"
      },
      "execution_count": 63,
      "outputs": [
        {
          "output_type": "display_data",
          "data": {
            "text/plain": [
              "<Figure size 800x800 with 1 Axes>"
            ],
            "image/png": "[encoded data removed]"
          },
          "metadata": {}
        }
      ]
    },
    {
      "cell_type": "markdown",
      "source": [
        "# Requirement R2\n",
        "Generate models as described below in a), b) and c) using repeated cross validation with number of folds=10 and repeats=3. Cross validation is used in preference to the standard train/test split method of training as the dataset is small with only 214 samples. With smaller datasets cross validation gives a more reliable estimate of classifier accuracy."
      ],
      "metadata": {
        "id": "ng96UlYuZObk"
      }
    },
    {
      "cell_type": "markdown",
      "source": [
        "1) Genrate a Linear Perceptron model on the preposed data **before** the Kernel function"
      ],
      "metadata": {
        "id": "icBHeg3ga5Oh"
      }
    },
    {
      "cell_type": "code",
      "source": [
        "#Apply cross Validation\n",
        "KCV = RepeatedKFold(n_splits=10,n_repeats=3,random_state=42)\n",
        "LPC = Perceptron(max_iter=1000,random_state=0,n_iter_no_change=3,tol=0.0001)\n",
        "\n",
        "per_preds = []\n",
        "per_tests = []\n",
        "\n",
        "for train_index,test_index in KCV.split(f_Scaled):\n",
        "  X_train, X_test = f_Scaled[train_index],f_Scaled[test_index]\n",
        "  y_train, y_test = y_target.iloc[train_index], y_target.iloc[test_index]\n",
        "\n",
        "\n",
        "\n",
        "LPC = LPC.fit(X_train,y_train)\n"
      ],
      "metadata": {
        "id": "XoP0EmQyB4d4"
      },
      "execution_count": 64,
      "outputs": []
    },
    {
      "cell_type": "code",
      "source": [
        "#Use model for predication\n",
        "t_pred = LPC.predict(X_test)\n",
        "\n",
        "per_preds.extend(t_pred)\n",
        "per_tests.extend(y_test)\n"
      ],
      "metadata": {
        "id": "3Dp8e4C1Fmxu"
      },
      "execution_count": 65,
      "outputs": []
    },
    {
      "cell_type": "code",
      "source": [
        "\n",
        "#model Diagnostics\n",
        "LPC_matrix = metrics.confusion_matrix(y_test,t_pred)\n",
        "print(\"Accuracy:\",metrics.accuracy_score(y_test, t_pred))\n",
        "print(\"Confusion Matrix:\")\n",
        "print(LPC_matrix)\n",
        "\n",
        "scores = cross_val_score(LPC,X_feature,y_target,scoring='accuracy',cv=KCV)\n",
        "print(\"Cross Validation Scores: \", scores)\n",
        "print(\"Average CV Score: \", scores.mean())\n",
        "\n",
        "\n",
        "perceptron_class_val = f1_score(per_tests, per_preds, average=None)\n",
        "print(\"F1 Score for each class :\")\n",
        "for i, score in enumerate(perceptron_class_val):\n",
        "    print(f\"Class {i+1}: {score:.4f}\")\n",
        "\n"
      ],
      "metadata": {
        "colab": {
          "base_uri": "https://localhost:8080/"
        },
        "id": "QBk-Uj9GB66I",
        "outputId": "b2cd5fea-eaee-48d4-a311-6f81e7f59d5d"
      },
      "execution_count": 66,
      "outputs": [
        {
          "output_type": "stream",
          "name": "stdout",
          "text": [
            "Accuracy: 0.7619047619047619\n",
            "Confusion Matrix:\n",
            "[[5 0 0 0 0 0]\n",
            " [2 4 0 0 0 0]\n",
            " [0 0 1 0 0 0]\n",
            " [0 0 0 0 0 0]\n",
            " [0 0 0 0 0 2]\n",
            " [0 0 0 1 0 6]]\n",
            "Cross Validation Scores:  [0.18181818 0.27272727 0.72727273 0.45454545 0.47619048 0.47619048\n",
            " 0.57142857 0.61904762 0.80952381 0.57142857 0.27272727 0.27272727\n",
            " 0.68181818 0.40909091 0.66666667 0.38095238 0.47619048 0.52380952\n",
            " 0.76190476 0.71428571 0.63636364 0.5        0.63636364 0.36363636\n",
            " 0.66666667 0.52380952 0.61904762 0.66666667 0.85714286 0.66666667]\n",
            "Average CV Score:  0.5485569985569986\n",
            "F1 Score for each class :\n",
            "Class 1: 0.8333\n",
            "Class 2: 0.8000\n",
            "Class 3: 1.0000\n",
            "Class 4: 0.0000\n",
            "Class 5: 0.0000\n",
            "Class 6: 0.8000\n"
          ]
        }
      ]
    },
    {
      "cell_type": "markdown",
      "source": [
        "Genrate a Linear Perceptron model on the preposed data **after** the Kernel function"
      ],
      "metadata": {
        "id": "OKjbHANecQj4"
      }
    },
    {
      "cell_type": "code",
      "source": [
        "for gamma_per_val in range(1 ,10):\n",
        "  per_k = rbf_kernel(f_Scaled, gamma=gamma_per_val)\n",
        "\n"
      ],
      "metadata": {
        "id": "LgPiB3b0IyiI"
      },
      "execution_count": 67,
      "outputs": []
    },
    {
      "cell_type": "code",
      "source": [
        "KCV_k = RepeatedKFold(n_splits=10,n_repeats=3)\n",
        "\n",
        "LPC_k = Perceptron(max_iter=1000,random_state=0,n_iter_no_change=3,tol=0.0001)\n",
        "perceptron_preds = []\n",
        "perceptron_tests = []\n",
        "\n",
        "for train_p,test_p in KCV.split(per_k):\n",
        "  X_p_train, X_p_test = per_k[train_p], per_k[test_p]\n",
        "  y_p_train, y_p_test = y_target.iloc[train_p], y_target.iloc[test_p]\n",
        "\n",
        "\n",
        "\n",
        "LPC_K = LPC_k.fit(X_p_train,y_p_train)\n",
        "\n",
        "#Use model for predication\n",
        "p_pred = LPC_k.predict(X_p_test)\n",
        "\n",
        "perceptron_preds.extend(p_pred)\n",
        "perceptron_tests.extend(y_test)\n",
        "\n",
        "\n",
        "\n",
        "\n",
        "\n",
        "#model Diagnostics\n",
        "LPC_matrix_k = metrics.confusion_matrix(y_p_test,p_pred)\n",
        "print(\"Accuracy:\",metrics.accuracy_score(y_p_test, p_pred))\n",
        "print(\"Confusion Matrix:\")\n",
        "print(LPC_matrix_k)\n",
        "\n",
        "scores_k = cross_val_score(LPC_K,X_feature,y_target,scoring='accuracy',cv=KCV_k)\n",
        "print(\"Cross Validation Scores: \", scores_k)\n",
        "print(\"Average CV Score: \", scores_k.mean())\n",
        "\n",
        "perceptron_f1 = f1_score(perceptron_tests, perceptron_preds, average=None)\n",
        "print(\"F1 Score for each class :\")\n",
        "for i, score in enumerate(perceptron_f1):\n",
        "    print(f\"Class {i+1}: {score:.4f}\")\n",
        "\n"
      ],
      "metadata": {
        "colab": {
          "base_uri": "https://localhost:8080/"
        },
        "id": "R9wU2-1RJLbI",
        "outputId": "40a9103d-5961-4193-ce0f-4e11bb53e3d2"
      },
      "execution_count": 68,
      "outputs": [
        {
          "output_type": "stream",
          "name": "stdout",
          "text": [
            "Accuracy: 0.9047619047619048\n",
            "Confusion Matrix:\n",
            "[[5 0 0 0 0]\n",
            " [0 6 0 0 0]\n",
            " [0 0 1 0 0]\n",
            " [0 0 0 1 1]\n",
            " [0 0 0 1 6]]\n",
            "Cross Validation Scores:  [0.27272727 0.72727273 0.40909091 0.68181818 0.95238095 0.42857143\n",
            " 0.23809524 0.47619048 0.61904762 0.80952381 0.63636364 0.77272727\n",
            " 0.31818182 0.68181818 0.71428571 0.9047619  0.66666667 0.47619048\n",
            " 0.42857143 0.80952381 0.90909091 0.40909091 0.31818182 0.40909091\n",
            " 0.85714286 0.66666667 0.61904762 0.47619048 0.71428571 0.57142857]\n",
            "Average CV Score:  0.5991341991341991\n",
            "F1 Score for each class :\n",
            "Class 1: 1.0000\n",
            "Class 2: 1.0000\n",
            "Class 3: 1.0000\n",
            "Class 4: 0.5000\n",
            "Class 5: 0.8571\n"
          ]
        }
      ]
    },
    {
      "cell_type": "markdown",
      "source": [
        "1.2) Genrate a logistic regression model on the preposed data **before** the Kernel function"
      ],
      "metadata": {
        "id": "cFP2DwBccwRT"
      }
    },
    {
      "cell_type": "code",
      "source": [
        "#Apply cross Validation\n",
        "LG = RepeatedKFold(n_splits=10,n_repeats=3,random_state=42)\n",
        "\n",
        "LG_m = LogisticRegression(max_iter=1000,C=1,random_state=0,tol=0.001,solver='saga')\n",
        "log_pred = []\n",
        "log_test = []\n",
        "\n",
        "for train_LG,test_LG in LG.split(f_Scaled):\n",
        "  X_train, X_test = f_Scaled[train_LG], f_Scaled[test_LG]\n",
        "  y_train, y_test = y_target.iloc[train_LG], y_target.iloc[test_LG]\n",
        "\n",
        "\n",
        "\n",
        "LG_m = LG_m.fit(X_train,y_train)"
      ],
      "metadata": {
        "id": "Wni9jw99NeRQ"
      },
      "execution_count": 69,
      "outputs": []
    },
    {
      "cell_type": "code",
      "source": [
        "#Use model for predication\n",
        "LG_pred = LG_m.predict(X_test)\n",
        "\n",
        "log_pred.extend(LG_pred)\n",
        "log_test.extend(y_test)"
      ],
      "metadata": {
        "id": "3eUHp5ftNeX_"
      },
      "execution_count": 70,
      "outputs": []
    },
    {
      "cell_type": "code",
      "source": [
        "#model Diagnostics\n",
        "LG_matrix = metrics.confusion_matrix(y_test,LG_pred)\n",
        "print(\"Accuracy:\",metrics.accuracy_score(y_test, LG_pred))\n",
        "print(\"Confusion Matrix:\")\n",
        "print(LG_matrix)\n",
        "\n",
        "\n",
        "\n",
        "LG_scores = cross_val_score(LG_m,X_feature,y_target,scoring='accuracy',cv=LG)\n",
        "print(\"Cross Validation Scores: \", LG_scores)\n",
        "print(\"Average CV Score: \", LG_scores.mean())\n",
        "\n",
        "\n",
        "loge_f1 = f1_score(log_test, log_pred, average=None)\n",
        "print(\"F1 Score for each class :\")\n",
        "for i, score in enumerate(loge_f1):\n",
        "    print(f\"Class {i+1}: {score:.4f}\")"
      ],
      "metadata": {
        "colab": {
          "base_uri": "https://localhost:8080/"
        },
        "id": "c7qspXzKNebY",
        "outputId": "8604bc2a-f1b1-460f-f962-c3d292af6ccf"
      },
      "execution_count": 71,
      "outputs": [
        {
          "output_type": "stream",
          "name": "stdout",
          "text": [
            "Accuracy: 0.7619047619047619\n",
            "Confusion Matrix:\n",
            "[[5 0 0 0 0]\n",
            " [1 5 0 0 0]\n",
            " [0 1 0 0 0]\n",
            " [0 1 0 0 1]\n",
            " [0 1 0 0 6]]\n",
            "Cross Validation Scores:  [0.86363636 1.         1.         0.95454545 1.         0.95238095\n",
            " 0.9047619  0.95238095 1.         1.         1.         1.\n",
            " 1.         0.90909091 1.         1.         0.95238095 1.\n",
            " 0.9047619  0.85714286 0.95454545 0.90909091 1.         0.95454545\n",
            " 1.         0.95238095 0.95238095 1.         0.95238095 1.        ]\n",
            "Average CV Score:  0.9642135642135642\n",
            "F1 Score for each class :\n",
            "Class 1: 0.9091\n",
            "Class 2: 0.7143\n",
            "Class 3: 0.0000\n",
            "Class 4: 0.0000\n",
            "Class 5: 0.8571\n"
          ]
        }
      ]
    },
    {
      "cell_type": "markdown",
      "source": [
        "Genrate a logistic regression model on the preposed data **after** the Kernel function"
      ],
      "metadata": {
        "id": "4VAW9uBGUPjQ"
      }
    },
    {
      "cell_type": "code",
      "source": [
        "for gamma_log_val in range(1 ,10):\n",
        "  log_k = rbf_kernel(f_Scaled, gamma=gamma_log_val)"
      ],
      "metadata": {
        "id": "lfMMN5gyZiIG"
      },
      "execution_count": 72,
      "outputs": []
    },
    {
      "cell_type": "code",
      "source": [
        "LG_k = RepeatedKFold(n_splits=10,n_repeats=3,random_state=42)\n",
        "\n",
        "LG_m_k = LogisticRegression(max_iter=1000,C=1,random_state=0,tol=0.001,solver='saga')\n",
        "\n",
        "Log_preds = []\n",
        "Log_tests = []\n",
        "\n",
        "for train_LG_k,test_LG_k in LG_k.split(log_k):\n",
        "  X_train, X_test = log_k[train_LG_k],log_k[test_LG_k]\n",
        "  y_train, y_test = y_target[train_LG_k], y_target[test_LG_k]\n",
        "\n",
        "\n",
        "\n",
        "LG_m_k = LG_m_k.fit(X_train,y_train)\n",
        "\n",
        "\n",
        "#Use model for predication\n",
        "LG_pred_k = LG_m_k.predict(X_test)\n",
        "\n",
        "Log_preds.extend(LG_pred_k)\n",
        "Log_tests.extend(y_test)\n",
        "\n",
        "#model Diagnostics\n",
        "LG_matrix_k = metrics.confusion_matrix(y_test,LG_pred_k)\n",
        "print(\"Accuracy:\",metrics.accuracy_score(y_test, LG_pred_k))\n",
        "print(\"Confusion Matrix:\")\n",
        "print(LG_matrix_k)\n",
        "\n",
        "\n",
        "\n",
        "LG_scores_k = cross_val_score(LG_m_k,X_feature,y_target,scoring='accuracy',cv=LG_k)\n",
        "print(\"Cross Validation Scores: \", LG_scores_k)\n",
        "print(\"Average CV Score: \", LG_scores_k.mean())\n",
        "\n",
        "log_f1 = f1_score(Log_tests, Log_preds, average=None)\n",
        "print(\"F1 Score for each class :\")\n",
        "for i, score in enumerate(log_f1):\n",
        "    print(f\"Class {i+1}: {score:.4f}\")\n",
        "\n",
        "\n"
      ],
      "metadata": {
        "colab": {
          "base_uri": "https://localhost:8080/"
        },
        "id": "UDViYSJgNed-",
        "outputId": "4903856d-fc09-4c78-d9e5-571d50cae1b6"
      },
      "execution_count": 73,
      "outputs": [
        {
          "output_type": "stream",
          "name": "stdout",
          "text": [
            "Accuracy: 0.8095238095238095\n",
            "Confusion Matrix:\n",
            "[[5 0 0 0 0]\n",
            " [0 6 0 0 0]\n",
            " [0 0 1 0 0]\n",
            " [0 1 0 1 0]\n",
            " [0 2 0 1 4]]\n",
            "Cross Validation Scores:  [0.86363636 1.         1.         0.95454545 1.         0.95238095\n",
            " 0.9047619  0.95238095 1.         1.         1.         1.\n",
            " 1.         0.90909091 1.         1.         0.95238095 1.\n",
            " 0.9047619  0.85714286 0.95454545 0.90909091 1.         0.95454545\n",
            " 1.         0.95238095 0.95238095 1.         0.95238095 1.        ]\n",
            "Average CV Score:  0.9642135642135642\n",
            "F1 Score for each class :\n",
            "Class 1: 1.0000\n",
            "Class 2: 0.8000\n",
            "Class 3: 1.0000\n",
            "Class 4: 0.5000\n",
            "Class 5: 0.7273\n"
          ]
        }
      ]
    },
    {
      "cell_type": "markdown",
      "source": [
        "3)Multilayer Perceptron\n"
      ],
      "metadata": {
        "id": "vYn2nX0SlCwa"
      }
    },
    {
      "cell_type": "code",
      "source": [
        "MP_fold = RepeatedKFold(n_splits=10,n_repeats=3,random_state=42)\n",
        "MP= MLPClassifier(max_iter=1000,random_state=1,n_iter_no_change=3,tol=0.0001)\n",
        "\n",
        "\n",
        "Mul_preds = []\n",
        "Mul_tests = []\n",
        "\n",
        "for MP_index,MP_test in MP_fold.split(f_Scaled):\n",
        "  X_train, X_test = f_Scaled[MP_index],f_Scaled[MP_test]\n",
        "  y_train, y_test = y_target[MP_index], y_target[MP_test]\n",
        "\n",
        "\n",
        "\n",
        "MP= MP.fit(X_train,y_train)\n",
        "\n",
        "\n",
        "#Use model for predication\n",
        "MP_pred = MP.predict(X_test)\n",
        "\n",
        "Mul_preds.extend(MP_pred)\n",
        "Mul_tests.extend(y_test)\n",
        "\n",
        "\n",
        "#model Diagnostics\n",
        "MP_matrix = metrics.confusion_matrix(y_test,MP_pred)\n",
        "print(\"Accuracy:\",metrics.accuracy_score(y_test, MP_pred))\n",
        "print(\"Confusion Matrix:\")\n",
        "print(MP_matrix)\n",
        "\n",
        "\n",
        "MP_scores = cross_val_score(MP,X_feature,y_target,scoring='accuracy',cv=MP_fold)\n",
        "print(\"Cross Validation Scores: \", MP_scores)\n",
        "print(\"Average CV Score: \", MP_scores.mean())\n",
        "\n",
        "\n",
        "Mul_f1 = f1_score(Mul_tests, Mul_preds, average=None)\n",
        "print(\"F1 Score for each class :\")\n",
        "for i, score in enumerate(Mul_f1):\n",
        "    print(f\"Class {i+1}: {score:.4f}\")\n"
      ],
      "metadata": {
        "colab": {
          "base_uri": "https://localhost:8080/"
        },
        "id": "UUpjZSCQl2xq",
        "outputId": "06f05a0f-921e-4977-aca8-ec541e1c2a84"
      },
      "execution_count": 74,
      "outputs": [
        {
          "output_type": "stream",
          "name": "stderr",
          "text": [
            "/usr/local/lib/python3.10/dist-packages/sklearn/neural_network/_multilayer_perceptron.py:691: ConvergenceWarning: Stochastic Optimizer: Maximum iterations (1000) reached and the optimization hasn't converged yet.\n",
            "  warnings.warn(\n"
          ]
        },
        {
          "output_type": "stream",
          "name": "stdout",
          "text": [
            "Accuracy: 0.9523809523809523\n",
            "Confusion Matrix:\n",
            "[[5 0 0 0 0]\n",
            " [0 6 0 0 0]\n",
            " [0 0 1 0 0]\n",
            " [0 0 0 2 0]\n",
            " [0 0 1 0 6]]\n",
            "Cross Validation Scores:  [1.         1.         1.         1.         1.         1.\n",
            " 0.95238095 1.         1.         1.         1.         1.\n",
            " 1.         1.         1.         1.         1.         0.95238095\n",
            " 0.95238095 0.95238095 1.         0.95454545 1.         1.\n",
            " 1.         1.         1.         0.95238095 1.         1.        ]\n",
            "Average CV Score:  0.9905483405483405\n",
            "F1 Score for each class :\n",
            "Class 1: 1.0000\n",
            "Class 2: 1.0000\n",
            "Class 3: 0.6667\n",
            "Class 4: 1.0000\n",
            "Class 5: 0.9231\n"
          ]
        }
      ]
    },
    {
      "cell_type": "markdown",
      "source": [
        "# Requirement R3:\n",
        "\n"
      ],
      "metadata": {
        "id": "PS_hJHLRBAOj"
      }
    },
    {
      "cell_type": "markdown",
      "source": [
        "Apply the train/test partition to the pre-processed data (including the application of the RBF Kernal). Use a 70/30 split.\n"
      ],
      "metadata": {
        "id": "9L-50QjuBG8v"
      }
    },
    {
      "cell_type": "code",
      "source": [
        "f_train,f_test,t_train,t_test = train_test_split(rbf_k,y_target,test_size=0.3,random_state=0)\n"
      ],
      "metadata": {
        "id": "BFmvP_vUBKd-"
      },
      "execution_count": 75,
      "outputs": []
    },
    {
      "cell_type": "code",
      "source": [
        "#  use Resample method to double the size of traing data\n",
        "\n",
        "f_train_re = resample(f_train,replace=True,n_samples=len(f_train)*2,random_state=42)\n",
        "t_train_re = resample(t_train,replace=True,n_samples=len(t_train)*2,random_state=42)"
      ],
      "metadata": {
        "id": "EnJZQ9N4Zkiz"
      },
      "execution_count": 76,
      "outputs": []
    },
    {
      "cell_type": "code",
      "source": [
        "# Apply new training set on Linear perceptron model\n",
        "\n",
        "per = Perceptron(max_iter=1000,random_state=0,n_iter_no_change=3,tol=0.0001)\n",
        "per = per.fit(f_train_re,t_train_re)\n",
        "\n",
        "per_pred = per.predict(f_test)\n",
        "\n",
        "per_matrix = metrics.confusion_matrix(t_test,per_pred)\n",
        "print(\"Accuracy:\",metrics.accuracy_score(t_test, per_pred))\n",
        "print(\"Confusion Matrix:\")\n",
        "print(per_matrix)\n",
        "\n",
        "per_f1 = f1_score(t_test, per_pred,average=None)\n",
        "print(\"F1 Score for each class :\")\n",
        "for i, score in enumerate(per_f1):\n",
        "    print(f\"Class {i+1}: {score:.4f}\")\n",
        "\n"
      ],
      "metadata": {
        "colab": {
          "base_uri": "https://localhost:8080/"
        },
        "id": "of6UpdfyaPjm",
        "outputId": "d2f75dcb-a44a-4ce0-c1ec-3ed0c9dc147b"
      },
      "execution_count": 77,
      "outputs": [
        {
          "output_type": "stream",
          "name": "stdout",
          "text": [
            "Accuracy: 0.7692307692307693\n",
            "Confusion Matrix:\n",
            "[[21  0  0  0  0  0]\n",
            " [ 4 20  0  1  0  1]\n",
            " [ 0  5  1  1  0  0]\n",
            " [ 0  0  0  1  0  1]\n",
            " [ 0  0  1  0  0  1]\n",
            " [ 0  0  0  0  0  7]]\n",
            "F1 Score for each class :\n",
            "Class 1: 0.9130\n",
            "Class 2: 0.7843\n",
            "Class 3: 0.2222\n",
            "Class 4: 0.4000\n",
            "Class 5: 0.0000\n",
            "Class 6: 0.8235\n"
          ]
        }
      ]
    },
    {
      "cell_type": "code",
      "source": [
        "# Apply on logistic regression\n",
        "\n",
        "logi = LogisticRegression(max_iter=1000,random_state=0,tol=0.0001)\n",
        "logi = logi.fit(f_train_re,t_train_re)\n",
        "\n",
        "logi_pred = logi.predict(f_test)\n",
        "\n",
        "logi_matrix = metrics.confusion_matrix(t_test,logi_pred)\n",
        "print(\"Accuracy:\",metrics.accuracy_score(t_test, logi_pred))\n",
        "print(\"Confusion Matrix:\")\n",
        "print(logi_matrix)\n",
        "\n",
        "logi_f1 = f1_score(t_test, logi_pred,average=None)\n",
        "print(\"F1 Score for each class :\")\n",
        "for i_log, score_log in enumerate(logi_f1):\n",
        "    print(f\"Class {i_log+1}: {score_log:.4f}\")"
      ],
      "metadata": {
        "colab": {
          "base_uri": "https://localhost:8080/"
        },
        "id": "Vaf4A0HLbYSh",
        "outputId": "e6811637-1879-4aaa-c812-9cfb923f0a0f"
      },
      "execution_count": 78,
      "outputs": [
        {
          "output_type": "stream",
          "name": "stdout",
          "text": [
            "Accuracy: 0.9230769230769231\n",
            "Confusion Matrix:\n",
            "[[21  0  0  0  0  0]\n",
            " [ 1 24  0  0  0  1]\n",
            " [ 0  1  6  0  0  0]\n",
            " [ 0  0  0  1  0  1]\n",
            " [ 0  0  0  0  1  1]\n",
            " [ 0  0  0  0  0  7]]\n",
            "F1 Score for each class :\n",
            "Class 1: 0.9767\n",
            "Class 2: 0.9412\n",
            "Class 3: 0.9231\n",
            "Class 4: 0.6667\n",
            "Class 5: 0.6667\n",
            "Class 6: 0.8235\n"
          ]
        }
      ]
    },
    {
      "cell_type": "markdown",
      "source": [
        "#Requirement R4"
      ],
      "metadata": {
        "id": "FSbL_Jd1g-CV"
      }
    },
    {
      "cell_type": "markdown",
      "source": [],
      "metadata": {
        "id": "KvsWsr-pX_wF"
      }
    },
    {
      "cell_type": "code",
      "source": [
        "info_gain = mutual_info_classif(f_train,t_train)\n",
        "\n"
      ],
      "metadata": {
        "id": "6Zh3TpnqtLNl"
      },
      "execution_count": 79,
      "outputs": []
    },
    {
      "cell_type": "code",
      "source": [
        "#cols = ['RI','Na','Mg','Al','Si','K','Ca','Ba','Fe']\n",
        "X_feature = GlassDataset.drop(['Id number','Glass_class'], axis=1)\n",
        "cols = X_feature.columns.tolist()"
      ],
      "metadata": {
        "id": "oT3cuUNL0DtQ"
      },
      "execution_count": 80,
      "outputs": []
    },
    {
      "cell_type": "code",
      "source": [
        "# Create a dictionary to store the feature and its information gain\n",
        "ig_dict = {}\n",
        "for i in range(len(cols)):\n",
        "    ig_dict[cols[i]] = info_gain[i]"
      ],
      "metadata": {
        "id": "gGu_LqVtwqB_"
      },
      "execution_count": 81,
      "outputs": []
    },
    {
      "cell_type": "code",
      "source": [
        "info_gain_sorted = dict(sorted(ig_dict.items(), key=lambda item: item[1], reverse=True))\n",
        "for feature, value in info_gain_sorted.items():\n",
        "    print(f\"{feature}: {value:.4f}\")\n",
        "\n",
        "\n",
        "\n"
      ],
      "metadata": {
        "colab": {
          "base_uri": "https://localhost:8080/"
        },
        "id": "Ehbxbo2k0R3A",
        "outputId": "26d641fe-1776-45f8-81a3-49dbe4e6804c"
      },
      "execution_count": 82,
      "outputs": [
        {
          "output_type": "stream",
          "name": "stdout",
          "text": [
            "RI: 0.9710\n",
            "Fe: 0.8249\n",
            "Al: 0.7988\n",
            "Na: 0.7724\n",
            "Ba: 0.7506\n",
            "Si: 0.7466\n",
            "Ca: 0.7306\n",
            "K: 0.7075\n",
            "Mg: 0.6856\n"
          ]
        }
      ]
    },
    {
      "cell_type": "markdown",
      "source": [
        "Now drop these features and regenerate the model and display the F values for each of the classes.\n"
      ],
      "metadata": {
        "id": "LwHKE_6I3vbn"
      }
    },
    {
      "cell_type": "markdown",
      "source": [
        "Apply new data on Linear Perceptron Model"
      ],
      "metadata": {
        "id": "C4bobBoaXHxk"
      }
    },
    {
      "cell_type": "code",
      "source": [
        "least_significant_features = [8,9]  # Replace with actual feature indices\n",
        "# Drop the least significant features\n",
        "X_train_reduced = np.delete(f_train, least_significant_features, axis=1)\n",
        "X_test_reduced = np.delete(f_test, least_significant_features, axis=1)\n"
      ],
      "metadata": {
        "id": "eaiqO5OsXf8K"
      },
      "execution_count": 83,
      "outputs": []
    },
    {
      "cell_type": "code",
      "source": [
        "\n",
        "best_model = Perceptron(max_iter=1000, random_state=42, tol=1e-3)\n",
        "best_model.fit(X_train_reduced, t_train)\n",
        "\n",
        "y_pred_reduced = best_model.predict(X_test_reduced)\n",
        "\n",
        "\n",
        "f1_per_class_reduced = f1_score(t_test, y_pred_reduced, average=None)\n",
        "\n"
      ],
      "metadata": {
        "id": "Qkn8HQ9E3wo8"
      },
      "execution_count": 84,
      "outputs": []
    },
    {
      "cell_type": "code",
      "source": [
        "\n",
        "print(\"F1 Score for each class (after dropping least significant features):\")\n",
        "for i, score in enumerate(f1_per_class_reduced):\n",
        "    print(f\"Class {i+1}: {score:.4f}\")\n"
      ],
      "metadata": {
        "colab": {
          "base_uri": "https://localhost:8080/"
        },
        "id": "NvvKqnF16qom",
        "outputId": "fe65b141-c587-4069-a720-e196fea9b520"
      },
      "execution_count": 85,
      "outputs": [
        {
          "output_type": "stream",
          "name": "stdout",
          "text": [
            "F1 Score for each class (after dropping least significant features):\n",
            "Class 1: 0.8936\n",
            "Class 2: 0.8077\n",
            "Class 3: 0.4444\n",
            "Class 4: 1.0000\n",
            "Class 5: 1.0000\n",
            "Class 6: 1.0000\n"
          ]
        }
      ]
    },
    {
      "cell_type": "markdown",
      "source": [
        "Apply new data on Logistic Regression"
      ],
      "metadata": {
        "id": "0UMg2tf7XRE3"
      }
    },
    {
      "cell_type": "code",
      "source": [
        "log_model = LogisticRegression(max_iter=1000, random_state=42, tol=1e-3)\n",
        "log_model.fit(X_train_reduced, t_train)\n",
        "\n",
        "# Step 6: Predict and evaluate using F1 score for each class\n",
        "log_pred_reduced = log_model.predict(X_test_reduced)\n",
        "\n",
        "# Step 7: Calculate F1 score for each class\n",
        "log_per_class_reduced = f1_score(t_test, log_pred_reduced, average=None)"
      ],
      "metadata": {
        "id": "_NqJOpO7UOQb"
      },
      "execution_count": 86,
      "outputs": []
    },
    {
      "cell_type": "code",
      "source": [
        "print(\"F1 Score for each class (after dropping least significant features):\")\n",
        "for i_log, score_log in enumerate(log_per_class_reduced):\n",
        "    print(f\"Class {i_log+1}: {score_log:.4f}\")"
      ],
      "metadata": {
        "colab": {
          "base_uri": "https://localhost:8080/"
        },
        "id": "o8t6wuSNBOHW",
        "outputId": "effd19ab-69be-4f8c-e04c-9bd403af40ce"
      },
      "execution_count": 87,
      "outputs": [
        {
          "output_type": "stream",
          "name": "stdout",
          "text": [
            "F1 Score for each class (after dropping least significant features):\n",
            "Class 1: 0.9767\n",
            "Class 2: 0.9412\n",
            "Class 3: 0.9231\n",
            "Class 4: 0.8000\n",
            "Class 5: 0.6667\n",
            "Class 6: 0.9333\n"
          ]
        }
      ]
    }
  ]
}